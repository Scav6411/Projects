{
  "cells": [
    {
      "cell_type": "code",
      "execution_count": null,
      "metadata": {
        "id": "Ie3GvlSCblN-"
      },
      "outputs": [],
      "source": [
        "import pandas as pd\n",
        "import numpy as np\n",
        "from sklearn.ensemble import RandomForestRegressor\n",
        "from sklearn.model_selection import GridSearchCV"
      ]
    },
    {
      "cell_type": "code",
      "execution_count": null,
      "metadata": {
        "colab": {
          "base_uri": "https://localhost:8080/",
          "height": 206
        },
        "id": "Ya87Jye8b5ky",
        "outputId": "c04fe7f5-749e-4cab-a460-caf03f4ff9bb"
      },
      "outputs": [
        {
          "data": {
            "text/html": [
              "\n",
              "  <div id=\"df-a88cb962-6db2-4010-851c-0adaab1804c5\">\n",
              "    <div class=\"colab-df-container\">\n",
              "      <div>\n",
              "<style scoped>\n",
              "    .dataframe tbody tr th:only-of-type {\n",
              "        vertical-align: middle;\n",
              "    }\n",
              "\n",
              "    .dataframe tbody tr th {\n",
              "        vertical-align: top;\n",
              "    }\n",
              "\n",
              "    .dataframe thead th {\n",
              "        text-align: right;\n",
              "    }\n",
              "</style>\n",
              "<table border=\"1\" class=\"dataframe\">\n",
              "  <thead>\n",
              "    <tr style=\"text-align: right;\">\n",
              "      <th></th>\n",
              "      <th>CbRt</th>\n",
              "      <th>SGZ</th>\n",
              "      <th>P</th>\n",
              "      <th>Q</th>\n",
              "      <th>CrRl</th>\n",
              "      <th>AbRl</th>\n",
              "      <th>DfClb</th>\n",
              "      <th>DfRlRt</th>\n",
              "      <th>DfDfClb</th>\n",
              "      <th>ST1</th>\n",
              "      <th>ST2</th>\n",
              "      <th>ST3</th>\n",
              "      <th>ST4</th>\n",
              "      <th>DfST1</th>\n",
              "      <th>DfST2</th>\n",
              "      <th>DfST3</th>\n",
              "      <th>DfST4</th>\n",
              "      <th>Sa</th>\n",
              "    </tr>\n",
              "  </thead>\n",
              "  <tbody>\n",
              "    <tr>\n",
              "      <th>0</th>\n",
              "      <td>-176</td>\n",
              "      <td>-42</td>\n",
              "      <td>0.09</td>\n",
              "      <td>0.03</td>\n",
              "      <td>-0.3</td>\n",
              "      <td>-18</td>\n",
              "      <td>13</td>\n",
              "      <td>0.023</td>\n",
              "      <td>0.0</td>\n",
              "      <td>-0.0007</td>\n",
              "      <td>-0.0007</td>\n",
              "      <td>-0.0007</td>\n",
              "      <td>-0.0007</td>\n",
              "      <td>0.0000</td>\n",
              "      <td>0</td>\n",
              "      <td>0.0000</td>\n",
              "      <td>0</td>\n",
              "      <td>-0.0007</td>\n",
              "    </tr>\n",
              "    <tr>\n",
              "      <th>1</th>\n",
              "      <td>-363</td>\n",
              "      <td>29</td>\n",
              "      <td>0.10</td>\n",
              "      <td>0.16</td>\n",
              "      <td>1.5</td>\n",
              "      <td>-11</td>\n",
              "      <td>-14</td>\n",
              "      <td>-0.004</td>\n",
              "      <td>0.0</td>\n",
              "      <td>-0.0007</td>\n",
              "      <td>-0.0007</td>\n",
              "      <td>-0.0007</td>\n",
              "      <td>-0.0007</td>\n",
              "      <td>0.0000</td>\n",
              "      <td>0</td>\n",
              "      <td>0.0000</td>\n",
              "      <td>0</td>\n",
              "      <td>-0.0007</td>\n",
              "    </tr>\n",
              "    <tr>\n",
              "      <th>2</th>\n",
              "      <td>-181</td>\n",
              "      <td>-28</td>\n",
              "      <td>-0.20</td>\n",
              "      <td>0.07</td>\n",
              "      <td>-0.7</td>\n",
              "      <td>-9</td>\n",
              "      <td>-6</td>\n",
              "      <td>-0.005</td>\n",
              "      <td>0.3</td>\n",
              "      <td>-0.0009</td>\n",
              "      <td>-0.0012</td>\n",
              "      <td>-0.0012</td>\n",
              "      <td>-0.0012</td>\n",
              "      <td>0.0003</td>\n",
              "      <td>0</td>\n",
              "      <td>0.0000</td>\n",
              "      <td>0</td>\n",
              "      <td>-0.0012</td>\n",
              "    </tr>\n",
              "    <tr>\n",
              "      <th>3</th>\n",
              "      <td>-241</td>\n",
              "      <td>9</td>\n",
              "      <td>0.31</td>\n",
              "      <td>0.09</td>\n",
              "      <td>-0.4</td>\n",
              "      <td>-14</td>\n",
              "      <td>-1</td>\n",
              "      <td>0.012</td>\n",
              "      <td>0.1</td>\n",
              "      <td>-0.0008</td>\n",
              "      <td>-0.0007</td>\n",
              "      <td>-0.0007</td>\n",
              "      <td>-0.0007</td>\n",
              "      <td>-0.0002</td>\n",
              "      <td>0</td>\n",
              "      <td>0.0000</td>\n",
              "      <td>0</td>\n",
              "      <td>-0.0007</td>\n",
              "    </tr>\n",
              "    <tr>\n",
              "      <th>4</th>\n",
              "      <td>5</td>\n",
              "      <td>-26</td>\n",
              "      <td>-0.22</td>\n",
              "      <td>0.01</td>\n",
              "      <td>0.4</td>\n",
              "      <td>-8</td>\n",
              "      <td>3</td>\n",
              "      <td>-0.010</td>\n",
              "      <td>-0.6</td>\n",
              "      <td>-0.0005</td>\n",
              "      <td>-0.0006</td>\n",
              "      <td>-0.0006</td>\n",
              "      <td>-0.0007</td>\n",
              "      <td>0.0001</td>\n",
              "      <td>0</td>\n",
              "      <td>0.0001</td>\n",
              "      <td>0</td>\n",
              "      <td>-0.0007</td>\n",
              "    </tr>\n",
              "  </tbody>\n",
              "</table>\n",
              "</div>\n",
              "      <button class=\"colab-df-convert\" onclick=\"convertToInteractive('df-a88cb962-6db2-4010-851c-0adaab1804c5')\"\n",
              "              title=\"Convert this dataframe to an interactive table.\"\n",
              "              style=\"display:none;\">\n",
              "        \n",
              "  <svg xmlns=\"http://www.w3.org/2000/svg\" height=\"24px\"viewBox=\"0 0 24 24\"\n",
              "       width=\"24px\">\n",
              "    <path d=\"M0 0h24v24H0V0z\" fill=\"none\"/>\n",
              "    <path d=\"M18.56 5.44l.94 2.06.94-2.06 2.06-.94-2.06-.94-.94-2.06-.94 2.06-2.06.94zm-11 1L8.5 8.5l.94-2.06 2.06-.94-2.06-.94L8.5 2.5l-.94 2.06-2.06.94zm10 10l.94 2.06.94-2.06 2.06-.94-2.06-.94-.94-2.06-.94 2.06-2.06.94z\"/><path d=\"M17.41 7.96l-1.37-1.37c-.4-.4-.92-.59-1.43-.59-.52 0-1.04.2-1.43.59L10.3 9.45l-7.72 7.72c-.78.78-.78 2.05 0 2.83L4 21.41c.39.39.9.59 1.41.59.51 0 1.02-.2 1.41-.59l7.78-7.78 2.81-2.81c.8-.78.8-2.07 0-2.86zM5.41 20L4 18.59l7.72-7.72 1.47 1.35L5.41 20z\"/>\n",
              "  </svg>\n",
              "      </button>\n",
              "      \n",
              "  <style>\n",
              "    .colab-df-container {\n",
              "      display:flex;\n",
              "      flex-wrap:wrap;\n",
              "      gap: 12px;\n",
              "    }\n",
              "\n",
              "    .colab-df-convert {\n",
              "      background-color: #E8F0FE;\n",
              "      border: none;\n",
              "      border-radius: 50%;\n",
              "      cursor: pointer;\n",
              "      display: none;\n",
              "      fill: #1967D2;\n",
              "      height: 32px;\n",
              "      padding: 0 0 0 0;\n",
              "      width: 32px;\n",
              "    }\n",
              "\n",
              "    .colab-df-convert:hover {\n",
              "      background-color: #E2EBFA;\n",
              "      box-shadow: 0px 1px 2px rgba(60, 64, 67, 0.3), 0px 1px 3px 1px rgba(60, 64, 67, 0.15);\n",
              "      fill: #174EA6;\n",
              "    }\n",
              "\n",
              "    [theme=dark] .colab-df-convert {\n",
              "      background-color: #3B4455;\n",
              "      fill: #D2E3FC;\n",
              "    }\n",
              "\n",
              "    [theme=dark] .colab-df-convert:hover {\n",
              "      background-color: #434B5C;\n",
              "      box-shadow: 0px 1px 3px 1px rgba(0, 0, 0, 0.15);\n",
              "      filter: drop-shadow(0px 1px 2px rgba(0, 0, 0, 0.3));\n",
              "      fill: #FFFFFF;\n",
              "    }\n",
              "  </style>\n",
              "\n",
              "      <script>\n",
              "        const buttonEl =\n",
              "          document.querySelector('#df-a88cb962-6db2-4010-851c-0adaab1804c5 button.colab-df-convert');\n",
              "        buttonEl.style.display =\n",
              "          google.colab.kernel.accessAllowed ? 'block' : 'none';\n",
              "\n",
              "        async function convertToInteractive(key) {\n",
              "          const element = document.querySelector('#df-a88cb962-6db2-4010-851c-0adaab1804c5');\n",
              "          const dataTable =\n",
              "            await google.colab.kernel.invokeFunction('convertToInteractive',\n",
              "                                                     [key], {});\n",
              "          if (!dataTable) return;\n",
              "\n",
              "          const docLinkHtml = 'Like what you see? Visit the ' +\n",
              "            '<a target=\"_blank\" href=https://colab.research.google.com/notebooks/data_table.ipynb>data table notebook</a>'\n",
              "            + ' to learn more about interactive tables.';\n",
              "          element.innerHTML = '';\n",
              "          dataTable['output_type'] = 'display_data';\n",
              "          await google.colab.output.renderOutput(dataTable, element);\n",
              "          const docLink = document.createElement('div');\n",
              "          docLink.innerHTML = docLinkHtml;\n",
              "          element.appendChild(docLink);\n",
              "        }\n",
              "      </script>\n",
              "    </div>\n",
              "  </div>\n",
              "  "
            ],
            "text/plain": [
              "   CbRt  SGZ     P     Q  CrRl  AbRl  DfClb  DfRlRt  DfDfClb     ST1     ST2  \\\n",
              "0  -176  -42  0.09  0.03  -0.3   -18     13   0.023      0.0 -0.0007 -0.0007   \n",
              "1  -363   29  0.10  0.16   1.5   -11    -14  -0.004      0.0 -0.0007 -0.0007   \n",
              "2  -181  -28 -0.20  0.07  -0.7    -9     -6  -0.005      0.3 -0.0009 -0.0012   \n",
              "3  -241    9  0.31  0.09  -0.4   -14     -1   0.012      0.1 -0.0008 -0.0007   \n",
              "4     5  -26 -0.22  0.01   0.4    -8      3  -0.010     -0.6 -0.0005 -0.0006   \n",
              "\n",
              "      ST3     ST4   DfST1  DfST2   DfST3  DfST4      Sa  \n",
              "0 -0.0007 -0.0007  0.0000      0  0.0000      0 -0.0007  \n",
              "1 -0.0007 -0.0007  0.0000      0  0.0000      0 -0.0007  \n",
              "2 -0.0012 -0.0012  0.0003      0  0.0000      0 -0.0012  \n",
              "3 -0.0007 -0.0007 -0.0002      0  0.0000      0 -0.0007  \n",
              "4 -0.0006 -0.0007  0.0001      0  0.0001      0 -0.0007  "
            ]
          },
          "execution_count": 2,
          "metadata": {},
          "output_type": "execute_result"
        }
      ],
      "source": [
        "df = pd.read_csv('train (1).csv')\n",
        "test_x = pd.read_csv('test.csv')\n",
        "test_id = test_x.Id\n",
        "test_x = test_x.drop(['Id'],axis=1)\n",
        "test_x.head()"
      ]
    },
    {
      "cell_type": "code",
      "execution_count": null,
      "metadata": {
        "colab": {
          "base_uri": "https://localhost:8080/"
        },
        "id": "dRQ_zagUcNAP",
        "outputId": "a2e504ec-e474-409c-fb0f-762ea88304a6"
      },
      "outputs": [
        {
          "data": {
            "text/plain": [
              "Index(['CbRt', 'SGZ', 'P', 'Q', 'CrRl', 'AbRl', 'DfClb', 'DfRlRt', 'DfDfClb',\n",
              "       'ST1', 'ST2', 'ST3', 'ST4', 'DfST1', 'DfST2', 'DfST3', 'DfST4', 'Sa',\n",
              "       'Target'],\n",
              "      dtype='object')"
            ]
          },
          "execution_count": 3,
          "metadata": {},
          "output_type": "execute_result"
        }
      ],
      "source": [
        "df.columns"
      ]
    },
    {
      "cell_type": "code",
      "execution_count": null,
      "metadata": {
        "colab": {
          "base_uri": "https://localhost:8080/"
        },
        "id": "RAkZE6mzcUR0",
        "outputId": "193b9d8a-cbc2-42ef-b54a-ec24f001d1f1"
      },
      "outputs": [
        {
          "data": {
            "text/plain": [
              "CbRt       0\n",
              "SGZ        0\n",
              "P          0\n",
              "Q          0\n",
              "CrRl       0\n",
              "AbRl       0\n",
              "DfClb      0\n",
              "DfRlRt     0\n",
              "DfDfClb    0\n",
              "ST1        0\n",
              "ST2        0\n",
              "ST3        0\n",
              "ST4        0\n",
              "DfST1      0\n",
              "DfST2      0\n",
              "DfST3      0\n",
              "DfST4      0\n",
              "Sa         0\n",
              "Target     0\n",
              "dtype: int64"
            ]
          },
          "execution_count": 4,
          "metadata": {},
          "output_type": "execute_result"
        }
      ],
      "source": [
        "df.isna().sum()"
      ]
    },
    {
      "cell_type": "code",
      "execution_count": null,
      "metadata": {
        "id": "S30W1pZDcayO"
      },
      "outputs": [],
      "source": [
        "features=['CbRt', 'SGZ', 'P', 'Q', 'CrRl', 'AbRl', 'DfClb', 'DfRlRt', 'DfDfClb','ST1', 'ST2', 'ST3', 'ST4', 'DfST1','DfST2', 'DfST3','DfST4', 'Sa']\n",
        "y = df.Target\n",
        "X = df[features]"
      ]
    },
    {
      "cell_type": "code",
      "execution_count": null,
      "metadata": {
        "id": "qM3WLZQSd11F"
      },
      "outputs": [],
      "source": [
        "from sklearn.model_selection import train_test_split\n",
        "x_train, x_test, y_train, y_test = train_test_split(X, y, test_size = 0.2)"
      ]
    },
    {
      "cell_type": "code",
      "execution_count": null,
      "metadata": {
        "id": "wx8fJlrsudh-"
      },
      "outputs": [],
      "source": []
    },
    {
      "cell_type": "code",
      "execution_count": null,
      "metadata": {
        "colab": {
          "background_save": true,
          "base_uri": "https://localhost:8080/"
        },
        "id": "4lymOT0dxLQ4",
        "outputId": "0860e056-7f43-4b14-ccae-f974597b7c4d"
      },
      "outputs": [
        {
          "name": "stdout",
          "output_type": "stream",
          "text": [
            "Fitting 3 folds for each of 1080 candidates, totalling 3240 fits\n"
          ]
        },
        {
          "data": {
            "text/plain": [
              "{'bootstrap': True,\n",
              " 'max_depth': 90,\n",
              " 'max_features': 3,\n",
              " 'min_samples_leaf': 3,\n",
              " 'min_samples_split': 8,\n",
              " 'n_estimators': 300}"
            ]
          },
          "execution_count": 7,
          "metadata": {},
          "output_type": "execute_result"
        }
      ],
      "source": [
        "#HYPERPARAMETR TUNING\n",
        "param_grid = {'bootstrap': [True],'max_depth': [80, 90, 100, 110],'max_features': [2, 3],'min_samples_leaf': [3, 4, 5],'min_samples_split': [8, 10, 12],'n_estimators': [10,20,30,50,80,100, 200, 300,400,500,600,700,800,900, 1000]} \n",
        "rfr = RandomForestRegressor()\n",
        "grid_search = GridSearchCV(estimator = rfr, param_grid = param_grid,cv = 3, n_jobs = -1, verbose = 2)\n",
        "grid_search.fit(X,y)\n",
        "grid_search.best_params_"
      ]
    },
    {
      "cell_type": "code",
      "execution_count": null,
      "metadata": {
        "colab": {
          "background_save": true
        },
        "id": "WxegbsktYbFz",
        "outputId": "72b6a8e3-8876-4893-d1c9-527793c8a8e3"
      },
      "outputs": [
        {
          "data": {
            "text/html": [
              "<style>#sk-container-id-1 {color: black;background-color: white;}#sk-container-id-1 pre{padding: 0;}#sk-container-id-1 div.sk-toggleable {background-color: white;}#sk-container-id-1 label.sk-toggleable__label {cursor: pointer;display: block;width: 100%;margin-bottom: 0;padding: 0.3em;box-sizing: border-box;text-align: center;}#sk-container-id-1 label.sk-toggleable__label-arrow:before {content: \"▸\";float: left;margin-right: 0.25em;color: #696969;}#sk-container-id-1 label.sk-toggleable__label-arrow:hover:before {color: black;}#sk-container-id-1 div.sk-estimator:hover label.sk-toggleable__label-arrow:before {color: black;}#sk-container-id-1 div.sk-toggleable__content {max-height: 0;max-width: 0;overflow: hidden;text-align: left;background-color: #f0f8ff;}#sk-container-id-1 div.sk-toggleable__content pre {margin: 0.2em;color: black;border-radius: 0.25em;background-color: #f0f8ff;}#sk-container-id-1 input.sk-toggleable__control:checked~div.sk-toggleable__content {max-height: 200px;max-width: 100%;overflow: auto;}#sk-container-id-1 input.sk-toggleable__control:checked~label.sk-toggleable__label-arrow:before {content: \"▾\";}#sk-container-id-1 div.sk-estimator input.sk-toggleable__control:checked~label.sk-toggleable__label {background-color: #d4ebff;}#sk-container-id-1 div.sk-label input.sk-toggleable__control:checked~label.sk-toggleable__label {background-color: #d4ebff;}#sk-container-id-1 input.sk-hidden--visually {border: 0;clip: rect(1px 1px 1px 1px);clip: rect(1px, 1px, 1px, 1px);height: 1px;margin: -1px;overflow: hidden;padding: 0;position: absolute;width: 1px;}#sk-container-id-1 div.sk-estimator {font-family: monospace;background-color: #f0f8ff;border: 1px dotted black;border-radius: 0.25em;box-sizing: border-box;margin-bottom: 0.5em;}#sk-container-id-1 div.sk-estimator:hover {background-color: #d4ebff;}#sk-container-id-1 div.sk-parallel-item::after {content: \"\";width: 100%;border-bottom: 1px solid gray;flex-grow: 1;}#sk-container-id-1 div.sk-label:hover label.sk-toggleable__label {background-color: #d4ebff;}#sk-container-id-1 div.sk-serial::before {content: \"\";position: absolute;border-left: 1px solid gray;box-sizing: border-box;top: 0;bottom: 0;left: 50%;z-index: 0;}#sk-container-id-1 div.sk-serial {display: flex;flex-direction: column;align-items: center;background-color: white;padding-right: 0.2em;padding-left: 0.2em;position: relative;}#sk-container-id-1 div.sk-item {position: relative;z-index: 1;}#sk-container-id-1 div.sk-parallel {display: flex;align-items: stretch;justify-content: center;background-color: white;position: relative;}#sk-container-id-1 div.sk-item::before, #sk-container-id-1 div.sk-parallel-item::before {content: \"\";position: absolute;border-left: 1px solid gray;box-sizing: border-box;top: 0;bottom: 0;left: 50%;z-index: -1;}#sk-container-id-1 div.sk-parallel-item {display: flex;flex-direction: column;z-index: 1;position: relative;background-color: white;}#sk-container-id-1 div.sk-parallel-item:first-child::after {align-self: flex-end;width: 50%;}#sk-container-id-1 div.sk-parallel-item:last-child::after {align-self: flex-start;width: 50%;}#sk-container-id-1 div.sk-parallel-item:only-child::after {width: 0;}#sk-container-id-1 div.sk-dashed-wrapped {border: 1px dashed gray;margin: 0 0.4em 0.5em 0.4em;box-sizing: border-box;padding-bottom: 0.4em;background-color: white;}#sk-container-id-1 div.sk-label label {font-family: monospace;font-weight: bold;display: inline-block;line-height: 1.2em;}#sk-container-id-1 div.sk-label-container {text-align: center;}#sk-container-id-1 div.sk-container {/* jupyter's `normalize.less` sets `[hidden] { display: none; }` but bootstrap.min.css set `[hidden] { display: none !important; }` so we also need the `!important` here to be able to override the default hidden behavior on the sphinx rendered scikit-learn.org. See: https://github.com/scikit-learn/scikit-learn/issues/21755 */display: inline-block !important;position: relative;}#sk-container-id-1 div.sk-text-repr-fallback {display: none;}</style><div id=\"sk-container-id-1\" class=\"sk-top-container\"><div class=\"sk-text-repr-fallback\"><pre>RandomForestRegressor(max_depth=80, max_features=3, min_samples_leaf=3,\n",
              "                      min_samples_split=8, n_estimators=300)</pre><b>In a Jupyter environment, please rerun this cell to show the HTML representation or trust the notebook. <br />On GitHub, the HTML representation is unable to render, please try loading this page with nbviewer.org.</b></div><div class=\"sk-container\" hidden><div class=\"sk-item\"><div class=\"sk-estimator sk-toggleable\"><input class=\"sk-toggleable__control sk-hidden--visually\" id=\"sk-estimator-id-1\" type=\"checkbox\" checked><label for=\"sk-estimator-id-1\" class=\"sk-toggleable__label sk-toggleable__label-arrow\">RandomForestRegressor</label><div class=\"sk-toggleable__content\"><pre>RandomForestRegressor(max_depth=80, max_features=3, min_samples_leaf=3,\n",
              "                      min_samples_split=8, n_estimators=300)</pre></div></div></div></div></div>"
            ],
            "text/plain": [
              "RandomForestRegressor(max_depth=80, max_features=3, min_samples_leaf=3,\n",
              "                      min_samples_split=8, n_estimators=300)"
            ]
          },
          "execution_count": 8,
          "metadata": {},
          "output_type": "execute_result"
        }
      ],
      "source": [
        "rfr = RandomForestRegressor(bootstrap=True, n_estimators=300, max_depth=80, max_features=3, min_samples_leaf=3, min_samples_split=8)\n",
        "rfr.fit(X,y)"
      ]
    },
    {
      "cell_type": "code",
      "execution_count": null,
      "metadata": {
        "colab": {
          "background_save": true
        },
        "id": "QjAnW4YhVPI5",
        "outputId": "695d12ab-36de-4332-f0a5-2d783b7fb96c"
      },
      "outputs": [
        {
          "data": {
            "text/plain": [
              "0.7778681005643944"
            ]
          },
          "execution_count": 9,
          "metadata": {},
          "output_type": "execute_result"
        }
      ],
      "source": [
        "rfr.score(x_test, y_test)\n"
      ]
    },
    {
      "cell_type": "code",
      "execution_count": null,
      "metadata": {
        "colab": {
          "background_save": true
        },
        "id": "zPWwb9vjVudk",
        "outputId": "7afa0b99-1fe0-43bb-d0f9-eb09b753acaf"
      },
      "outputs": [
        {
          "name": "stdout",
          "output_type": "stream",
          "text": [
            "[0.02048681 0.01993909 0.02697334 0.02154532 0.01858926 0.01946409\n",
            " 0.01795886 0.03394014 0.01856015 0.02379226 0.0339412  0.02028966\n",
            " 0.02112757 0.01928399 0.02427169 0.01898556 0.02395987 0.0185819\n",
            " 0.03613751 0.01972312 0.01871965 0.01912694 0.01965592 0.01948134\n",
            " 0.01863128 0.02790921 0.02767011 0.0191579  0.01872229 0.01902989\n",
            " 0.01805324 0.02411437 0.01993879 0.02220776 0.03726836 0.0175845\n",
            " 0.01989917 0.02220665 0.02157766 0.01844619 0.01762687 0.02135457\n",
            " 0.01988802 0.02144247 0.02060916 0.02058149 0.01893356 0.01988801\n",
            " 0.02432085 0.02099494 0.02963552 0.01827679 0.02018843 0.02141943\n",
            " 0.01907471 0.01851665 0.03218717 0.02100606 0.01859081 0.0216101\n",
            " 0.01786634 0.02149449 0.019434   0.01750951 0.02085024 0.02069537\n",
            " 0.01673357 0.01730842 0.01936221 0.02019495 0.01952392 0.02276472\n",
            " 0.01807993 0.0219277  0.01895987 0.01957328 0.01948851 0.02144941\n",
            " 0.02492826 0.01618717 0.0241288  0.02056018 0.02000334 0.0207703\n",
            " 0.0214156  0.02107887 0.0169791  0.01853157 0.0212146  0.01748941\n",
            " 0.02142409 0.01901854 0.01950932 0.02060009 0.0231208  0.02185641\n",
            " 0.02105851 0.02443365 0.02033618 0.01757236 0.03977059 0.01998517\n",
            " 0.02128124 0.02047475 0.019278   0.01942501 0.02084614 0.01895556\n",
            " 0.02114154 0.01970119 0.01979554 0.01938754 0.0211712  0.01866365\n",
            " 0.02377045 0.01851402 0.01792534 0.01926019 0.02219091 0.01969059\n",
            " 0.02925047 0.01979796 0.01860177 0.01980865 0.0193952  0.03390621\n",
            " 0.02124701 0.01898037 0.01726862 0.02001946 0.03313298 0.02069859\n",
            " 0.02050206 0.02123176 0.01852569 0.01760128 0.01914594 0.03196931\n",
            " 0.03095817 0.03216989 0.02027963 0.03385807 0.03209443 0.0176225\n",
            " 0.02613799 0.02181869 0.02029635 0.04298455 0.02921485 0.01914683\n",
            " 0.02070341 0.0188965  0.02404789 0.02027214 0.03579545 0.02172997\n",
            " 0.01752268 0.01931256 0.02441822 0.0339754  0.02743186 0.02184848\n",
            " 0.01970108 0.03064711 0.02009581 0.01837132 0.01899615 0.02130939\n",
            " 0.02120108 0.01992697 0.02167273 0.01811111 0.02186106 0.01910642\n",
            " 0.01937994 0.01703249 0.02556721 0.01803689 0.02075276 0.02037626\n",
            " 0.03660004 0.02971433 0.02111832 0.03463799 0.02088055 0.01935507\n",
            " 0.01834884 0.01671814 0.02027865 0.01859832 0.0195281  0.02147816\n",
            " 0.02096687 0.02175027 0.01937132 0.01752734 0.01899345 0.02653061\n",
            " 0.0246475  0.02916439 0.01815595 0.02646191 0.02039894 0.01906602\n",
            " 0.03715123 0.02011277 0.01938186 0.02269635 0.01931831 0.02148289\n",
            " 0.02118369 0.02076618 0.01914474 0.02847012 0.01820556 0.02090442\n",
            " 0.03247634 0.01808701 0.01997929 0.01894977 0.02116761 0.02153327\n",
            " 0.01857342 0.01946661 0.01859774 0.02289929 0.01896998 0.02048788\n",
            " 0.01823855 0.01775069 0.01759397 0.021638   0.02009815 0.02070131\n",
            " 0.04295895 0.01701741 0.02034816 0.02506955 0.01800456 0.01947417\n",
            " 0.02034951 0.02001676 0.02525486 0.01731329 0.02339099 0.01979624\n",
            " 0.0219088  0.02023237 0.01855985 0.01898919 0.01873967 0.02146681\n",
            " 0.01816209 0.0377747  0.02059511 0.02185756 0.01824931 0.01904062\n",
            " 0.01736397 0.03028197 0.01854976 0.01832726 0.01739204 0.01725398\n",
            " 0.01622249 0.03382078 0.02009241 0.02124516 0.02776894 0.02324248\n",
            " 0.02290341 0.01846614 0.01903963 0.02231106 0.01717918 0.02064641\n",
            " 0.0206902  0.02087668 0.02816375 0.01749916 0.02055706 0.02263783\n",
            " 0.01962056 0.01943535 0.01987192 0.0178603  0.02476091 0.02417276\n",
            " 0.02301907 0.01972088 0.02130007 0.01948149 0.0419624  0.01895276\n",
            " 0.01864137 0.02225453 0.02027552 0.01981689 0.02253925 0.01803527\n",
            " 0.01995666 0.02480205 0.01891626 0.02052604 0.01778196 0.01738124\n",
            " 0.01842273 0.02058878 0.02755966 0.01897264 0.01771977 0.02000411\n",
            " 0.02545693 0.01768571 0.01988487 0.01839851 0.02156471 0.02077115\n",
            " 0.0212825  0.03914688 0.01882549 0.02439604 0.02562087 0.01974357\n",
            " 0.03094888 0.01969407 0.02082218 0.01709473 0.01849559 0.02562187\n",
            " 0.01979257 0.04090782 0.0202277  0.01982133 0.01926313 0.02351801\n",
            " 0.02333391 0.02351227 0.01874119 0.01817352 0.02006366 0.01792938\n",
            " 0.01792605 0.02286578 0.02034724 0.01752252 0.02036285 0.01898256\n",
            " 0.02327943 0.02453418 0.01895644 0.02930268 0.02574545 0.0178421\n",
            " 0.0178557  0.01919718 0.01838728 0.02060087 0.01964279 0.01983168\n",
            " 0.01821251 0.02246355 0.01685654 0.04153328 0.01878664 0.01990693\n",
            " 0.0326901  0.01916061 0.0420896  0.01819377 0.03688983 0.02060612\n",
            " 0.01909883 0.0185024  0.01833648 0.01712026 0.02656184 0.01874855\n",
            " 0.01989513 0.0192836  0.01770982 0.02002862 0.01903482 0.01819314\n",
            " 0.01844018 0.016617   0.02629413 0.02032073 0.01794611 0.03057489\n",
            " 0.02230146 0.02017248 0.02713887 0.01900498 0.02093929 0.02066246\n",
            " 0.01833238 0.02029978 0.0177434  0.02087635 0.02002106 0.02511871\n",
            " 0.01899995 0.01893454 0.01981689 0.01754293 0.01830408 0.01862291\n",
            " 0.01813941 0.01886058 0.03948137 0.02229505 0.0222474  0.02013839\n",
            " 0.03073502 0.01830999 0.02002184 0.02016754 0.02034719 0.01756654\n",
            " 0.02392859 0.02401847 0.03347855 0.02839925 0.02226376 0.02111317\n",
            " 0.02955849 0.03279113 0.02016192 0.01715109 0.02006975 0.01969766\n",
            " 0.02045814 0.01866165 0.03205548 0.01908163 0.01884179 0.01764682\n",
            " 0.02376536 0.01931918 0.04667793 0.01738268 0.02323711 0.02759975\n",
            " 0.02154643 0.01855287 0.01823263 0.02019494 0.01904138 0.02176729\n",
            " 0.02309247 0.02241345 0.02013523 0.03037871 0.02321505 0.02061503\n",
            " 0.01942464 0.02140176 0.02054759 0.02198532 0.02057946 0.01917587\n",
            " 0.02038908 0.02279781 0.01778745 0.02184245 0.03417173 0.02725701\n",
            " 0.02400602 0.01906424 0.02132021 0.02264089 0.01875543 0.02354413\n",
            " 0.01945944 0.01804364 0.0427039  0.02117842 0.02076391 0.02040752\n",
            " 0.01697109 0.01701777 0.02263652 0.02071853 0.0194102  0.01927582\n",
            " 0.02304484 0.01942303 0.02157783 0.01804167 0.01806854 0.02147953\n",
            " 0.02100553 0.01726845 0.01897938 0.02046599 0.0225965  0.02161097\n",
            " 0.02026164 0.02586367 0.02251111 0.01784779 0.02848445 0.02773442\n",
            " 0.02580909 0.01937224 0.02025467 0.0165044  0.0351548  0.01908852\n",
            " 0.01898556 0.0267452  0.03043633 0.01728657 0.0244982  0.02118376\n",
            " 0.02101037 0.01825525 0.02105357 0.02940688 0.02513632 0.02699297\n",
            " 0.01953242 0.0191563  0.0221083  0.01794663 0.02124974 0.04873013\n",
            " 0.01963563 0.01959628 0.01766423 0.01890943 0.01875894 0.02468999\n",
            " 0.02037579 0.0181776  0.01894851 0.02490345 0.02036816 0.02156514\n",
            " 0.02494574 0.01734331 0.01848252 0.01836555 0.03060099 0.01850332\n",
            " 0.02014802 0.02113903 0.01820485 0.02966479 0.02880188 0.01903607\n",
            " 0.01913187 0.02267196 0.02207559 0.0180579  0.02290137 0.02124366\n",
            " 0.01983741 0.02243578 0.02488645 0.01909891 0.01733281 0.02014403\n",
            " 0.02084733 0.02223248 0.02122414 0.01942036 0.01991117 0.02690543\n",
            " 0.01710949 0.02182419 0.02191013 0.01819646 0.01790773 0.02101886\n",
            " 0.01872907 0.02032638 0.02280176 0.0222294  0.01949655 0.03796641\n",
            " 0.01768636 0.01739615 0.02111194 0.02009975 0.01919439 0.01706929\n",
            " 0.01907802 0.0173287  0.01982641 0.02204612 0.02236441 0.02585866\n",
            " 0.01921621 0.02234147 0.01887527 0.01958678 0.01675396 0.01777159\n",
            " 0.0177545  0.01811703 0.02304672 0.03747467 0.01982601 0.01988158\n",
            " 0.02821857 0.02321763 0.02143079 0.01963686 0.02025735 0.01831018\n",
            " 0.01970407 0.02147663 0.02212241 0.01867454 0.02143285 0.02210244\n",
            " 0.02263643 0.01988968 0.01937286 0.02474356 0.02246911 0.01899258\n",
            " 0.04367649 0.02428479 0.01804297 0.01708093 0.01766761 0.01722894\n",
            " 0.0187104  0.01957425 0.01790653 0.01935007 0.01776412 0.01884577\n",
            " 0.02478134 0.01916082 0.02053809 0.01770912 0.02448154 0.02384818\n",
            " 0.01991958 0.01938428 0.01991518 0.03811319 0.02094334 0.01868685\n",
            " 0.02254744 0.0170017  0.02221856 0.01839991 0.02148095 0.02176897\n",
            " 0.0181961  0.01859777 0.01992578 0.02059595 0.01729354 0.01979592\n",
            " 0.0203382  0.02269503 0.01794214 0.01698488 0.01776557 0.01750944\n",
            " 0.01825422 0.0189907  0.02122759 0.01916159 0.020435   0.03252909\n",
            " 0.01699922 0.02099133 0.02146374 0.02527698 0.02302221 0.01985185\n",
            " 0.03230461 0.01990306 0.01878287 0.01937313 0.02581994 0.0186606\n",
            " 0.02606446 0.02046171 0.01899168 0.01959338 0.01911522 0.01789009\n",
            " 0.03885704 0.01647709 0.02206961 0.02633499 0.02542175 0.0384208\n",
            " 0.01795426 0.02030486 0.03014445 0.01945316 0.01942524 0.01939868\n",
            " 0.01950739 0.02452587 0.01962278 0.02197708 0.03516569 0.01765299\n",
            " 0.02604768 0.01873788 0.03799535 0.01917721 0.01754557 0.01953139\n",
            " 0.02037127 0.01775021 0.03101217 0.0191378  0.01802222 0.01935014\n",
            " 0.0177946  0.02210553 0.01919342 0.01957302 0.0192772  0.02029646\n",
            " 0.01773817 0.02507459 0.01791004 0.01817765 0.02165947 0.01704383\n",
            " 0.02109294 0.02843548 0.01965616 0.02378789 0.02648723 0.02371823\n",
            " 0.0250494  0.02206274 0.0209214  0.02060741 0.04361695 0.01921057\n",
            " 0.01812479 0.01866308 0.02300969 0.01914905 0.023889   0.0278676\n",
            " 0.02382102 0.02245941 0.02080661 0.01876466 0.02019108 0.02231255\n",
            " 0.02314349 0.01956128 0.02042922 0.01928223 0.02038446 0.02099309\n",
            " 0.01790326 0.03340433 0.01986937 0.01577585 0.01985253 0.01815141\n",
            " 0.01806839 0.02070854 0.01924095 0.02074555 0.01864249 0.02812023\n",
            " 0.02261087 0.03606851 0.01810753 0.02649468 0.01780718 0.02433564\n",
            " 0.02545638 0.03910328 0.01910578 0.02433831 0.02123392 0.02308457\n",
            " 0.01933694 0.0172224  0.01820495 0.01852186 0.01760129 0.02170135\n",
            " 0.02265475 0.01697451 0.01831745 0.01821062 0.02604439 0.02763833\n",
            " 0.02192816 0.02375319 0.01849506 0.01833563 0.02121276 0.01657676\n",
            " 0.0194156  0.0196155  0.02111923 0.02819444 0.03001615 0.02254298\n",
            " 0.0187502  0.01976536 0.0185497  0.01894023 0.01916949 0.02605566\n",
            " 0.02081721 0.01951344 0.02174976 0.01942846 0.04441389 0.01734228\n",
            " 0.02087789 0.0158131  0.01847722 0.02109759 0.01845558 0.01841618\n",
            " 0.02166563 0.02028578 0.02041172 0.0178635  0.01848897 0.01753495\n",
            " 0.03996173 0.01831421 0.02201116 0.02266085 0.01691768 0.02157757\n",
            " 0.01862836 0.02049881 0.0178436  0.02877726 0.02248613 0.02943916\n",
            " 0.02131587 0.01932987 0.01843531 0.01891445 0.01801632 0.02450011\n",
            " 0.02160357 0.01938723 0.02202644 0.01815862 0.02024064 0.01690104\n",
            " 0.01843457 0.02301007 0.01723106 0.02106134 0.01884624 0.02414104\n",
            " 0.01688201 0.01917285 0.02009031 0.02237215 0.04273633 0.01896057\n",
            " 0.01760647 0.02071391 0.01921175 0.01868152 0.01697018 0.01682522\n",
            " 0.02006352 0.01690117 0.02177872 0.02288963 0.01895646 0.01612283\n",
            " 0.0175214  0.03000676 0.01900775 0.02000759 0.01853369 0.02026866\n",
            " 0.01941856 0.01813311 0.02713195 0.03987825 0.01778251 0.01797787\n",
            " 0.0196755  0.03531141 0.01845801 0.01991183 0.02277537 0.01883946\n",
            " 0.01890926 0.01844429 0.01732802 0.01758246 0.02550618 0.02100566\n",
            " 0.02011584 0.02257179 0.01799854 0.01855945 0.01727848 0.02073789\n",
            " 0.01877852 0.01873172 0.01811904 0.01993045 0.01791209 0.04379387\n",
            " 0.01984367 0.02038306 0.03060949 0.01877098 0.03111852 0.01786024\n",
            " 0.0272005  0.03813058 0.02829114 0.01886391 0.0184828  0.02635893\n",
            " 0.02020082 0.02093553 0.019043   0.0194588  0.0190772  0.01698363\n",
            " 0.02178513 0.0233811  0.02388563 0.02582124 0.0243664  0.0245098\n",
            " 0.01949096 0.02176765 0.01920705 0.01797505 0.01980014 0.01919235\n",
            " 0.01719437 0.02980474 0.02489643 0.01783636 0.01973399 0.02299211\n",
            " 0.01967616 0.02356558 0.02035559 0.02066129 0.01981431 0.02123745\n",
            " 0.03347967 0.01864049 0.01847819 0.02012968 0.02251923 0.02476565\n",
            " 0.02572262 0.01868244 0.01927875 0.02065589 0.02704355 0.01937956\n",
            " 0.02315553 0.02284189 0.01954814 0.01872426 0.02266914 0.01924629\n",
            " 0.02342674 0.01906152 0.01884    0.01972028 0.03083989 0.02178334\n",
            " 0.01862149 0.01838415 0.01890881 0.02556098 0.01805364 0.01800157\n",
            " 0.0182327  0.01748634 0.02327676 0.03412981 0.01743787 0.02889453\n",
            " 0.01830184 0.01798053 0.0201968  0.02156403]\n"
          ]
        }
      ],
      "source": [
        "pred = rfr.predict(test_x)\n",
        "print(pred)\n",
        "output = pd.DataFrame({\"ID\":test_id,\"Target\":pred})\n",
        "output.to_csv('Airplanesubmission9.csv', index=False)"
      ]
    }
  ],
  "metadata": {
    "colab": {
      "provenance": []
    },
    "kernelspec": {
      "display_name": "Python 3",
      "name": "python3"
    },
    "language_info": {
      "name": "python"
    }
  },
  "nbformat": 4,
  "nbformat_minor": 0
}